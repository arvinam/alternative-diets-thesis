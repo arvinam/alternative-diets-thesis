{
 "cells": [
  {
   "cell_type": "code",
   "execution_count": 1,
   "id": "2651ee41",
   "metadata": {},
   "outputs": [],
   "source": [
    "import pandas as pd"
   ]
  },
  {
   "cell_type": "code",
   "execution_count": 2,
   "id": "2e2a333e",
   "metadata": {},
   "outputs": [],
   "source": [
    "df = pd.read_csv('df.csv')"
   ]
  },
  {
   "cell_type": "code",
   "execution_count": null,
   "id": "e66c859e",
   "metadata": {},
   "outputs": [],
   "source": [
    "anti_vegan_df = df[df['Theme'] == 'Anti-Veganism / Pro-Carnivore Discussion']"
   ]
  },
  {
   "cell_type": "code",
   "execution_count": null,
   "id": "0ec295f8",
   "metadata": {},
   "outputs": [
    {
     "data": {
      "text/plain": [
       "38212"
      ]
     },
     "execution_count": 4,
     "metadata": {},
     "output_type": "execute_result"
    }
   ],
   "source": [
    "len(anti_vegan_df)"
   ]
  },
  {
   "cell_type": "code",
   "execution_count": null,
   "id": "bf2294c3",
   "metadata": {},
   "outputs": [
    {
     "data": {
      "text/html": [
       "<div>\n",
       "<style scoped>\n",
       "    .dataframe tbody tr th:only-of-type {\n",
       "        vertical-align: middle;\n",
       "    }\n",
       "\n",
       "    .dataframe tbody tr th {\n",
       "        vertical-align: top;\n",
       "    }\n",
       "\n",
       "    .dataframe thead th {\n",
       "        text-align: right;\n",
       "    }\n",
       "</style>\n",
       "<table border=\"1\" class=\"dataframe\">\n",
       "  <thead>\n",
       "    <tr style=\"text-align: right;\">\n",
       "      <th></th>\n",
       "      <th>Document</th>\n",
       "      <th>Topic</th>\n",
       "      <th>Timestamp</th>\n",
       "      <th>Theme</th>\n",
       "    </tr>\n",
       "  </thead>\n",
       "  <tbody>\n",
       "    <tr>\n",
       "      <th>32</th>\n",
       "      <td>I salute you, i have tried soooooo many times ...</td>\n",
       "      <td>2</td>\n",
       "      <td>2024-04-01</td>\n",
       "      <td>Anti-Veganism / Pro-Carnivore Discussion</td>\n",
       "    </tr>\n",
       "    <tr>\n",
       "      <th>71</th>\n",
       "      <td>wow huge transformation bro. i need to get mor...</td>\n",
       "      <td>2</td>\n",
       "      <td>2024-04-01</td>\n",
       "      <td>Anti-Veganism / Pro-Carnivore Discussion</td>\n",
       "    </tr>\n",
       "    <tr>\n",
       "      <th>85</th>\n",
       "      <td>This guy should be a poster child for carnivor...</td>\n",
       "      <td>1</td>\n",
       "      <td>2024-04-01</td>\n",
       "      <td>Anti-Veganism / Pro-Carnivore Discussion</td>\n",
       "    </tr>\n",
       "    <tr>\n",
       "      <th>115</th>\n",
       "      <td>Thank you! 🙏 I know the struggle, this is the ...</td>\n",
       "      <td>2</td>\n",
       "      <td>2024-04-01</td>\n",
       "      <td>Anti-Veganism / Pro-Carnivore Discussion</td>\n",
       "    </tr>\n",
       "    <tr>\n",
       "      <th>147</th>\n",
       "      <td>Wow...unbelievable. On day 10 of carnivore here.</td>\n",
       "      <td>2</td>\n",
       "      <td>2024-04-01</td>\n",
       "      <td>Anti-Veganism / Pro-Carnivore Discussion</td>\n",
       "    </tr>\n",
       "  </tbody>\n",
       "</table>\n",
       "</div>"
      ],
      "text/plain": [
       "                                              Document  Topic   Timestamp  \\\n",
       "32   I salute you, i have tried soooooo many times ...      2  2024-04-01   \n",
       "71   wow huge transformation bro. i need to get mor...      2  2024-04-01   \n",
       "85   This guy should be a poster child for carnivor...      1  2024-04-01   \n",
       "115  Thank you! 🙏 I know the struggle, this is the ...      2  2024-04-01   \n",
       "147   Wow...unbelievable. On day 10 of carnivore here.      2  2024-04-01   \n",
       "\n",
       "                                        Theme  \n",
       "32   Anti-Veganism / Pro-Carnivore Discussion  \n",
       "71   Anti-Veganism / Pro-Carnivore Discussion  \n",
       "85   Anti-Veganism / Pro-Carnivore Discussion  \n",
       "115  Anti-Veganism / Pro-Carnivore Discussion  \n",
       "147  Anti-Veganism / Pro-Carnivore Discussion  "
      ]
     },
     "execution_count": 5,
     "metadata": {},
     "output_type": "execute_result"
    }
   ],
   "source": [
    "anti_vegan_df.head()"
   ]
  },
  {
   "cell_type": "code",
   "execution_count": null,
   "id": "749c3b10",
   "metadata": {},
   "outputs": [
    {
     "data": {
      "text/plain": [
       "{1: 13370,\n",
       " 2: 12355,\n",
       " 9: 3596,\n",
       " 13: 3175,\n",
       " 26: 1662,\n",
       " 35: 1352,\n",
       " 60: 787,\n",
       " 69: 746,\n",
       " 85: 486,\n",
       " 107: 306,\n",
       " 119: 219,\n",
       " 127: 158}"
      ]
     },
     "execution_count": 19,
     "metadata": {},
     "output_type": "execute_result"
    }
   ],
   "source": [
    "anti_vegan_df['Topic'].value_counts().to_dict()"
   ]
  },
  {
   "cell_type": "code",
   "execution_count": null,
   "id": "2e7eb8d8",
   "metadata": {},
   "outputs": [],
   "source": [
    "anti_vegan_samp = anti_vegan_df.groupby('Topic').sample(n=20, random_state = 42)"
   ]
  },
  {
   "cell_type": "code",
   "execution_count": null,
   "id": "441add30",
   "metadata": {},
   "outputs": [],
   "source": [
    "anti_vegan_samp.to_csv('anti_vegan_samp.csv')"
   ]
  },
  {
   "cell_type": "code",
   "execution_count": null,
   "id": "06a38b45",
   "metadata": {},
   "outputs": [],
   "source": [
    "anti_vegan_samp2 = anti_vegan_df.sample(n=240, random_state = 42)"
   ]
  },
  {
   "cell_type": "code",
   "execution_count": null,
   "id": "6b4e34b6",
   "metadata": {},
   "outputs": [
    {
     "data": {
      "text/plain": [
       "Topic\n",
       "1      95\n",
       "2      65\n",
       "9      19\n",
       "13     16\n",
       "35     13\n",
       "26      9\n",
       "60      9\n",
       "69      4\n",
       "119     3\n",
       "85      3\n",
       "107     2\n",
       "127     2\n",
       "Name: count, dtype: int64"
      ]
     },
     "execution_count": 22,
     "metadata": {},
     "output_type": "execute_result"
    }
   ],
   "source": [
    "anti_vegan_samp2['Topic'].value_counts()"
   ]
  },
  {
   "cell_type": "code",
   "execution_count": null,
   "id": "9f8ced4a",
   "metadata": {},
   "outputs": [],
   "source": [
    "anti_vegan_samp2.to_csv('anti_vegan_samp2.csv')"
   ]
  },
  {
   "cell_type": "code",
   "execution_count": null,
   "id": "3dd4cec9",
   "metadata": {},
   "outputs": [
    {
     "data": {
      "text/html": [
       "<div>\n",
       "<style scoped>\n",
       "    .dataframe tbody tr th:only-of-type {\n",
       "        vertical-align: middle;\n",
       "    }\n",
       "\n",
       "    .dataframe tbody tr th {\n",
       "        vertical-align: top;\n",
       "    }\n",
       "\n",
       "    .dataframe thead th {\n",
       "        text-align: right;\n",
       "    }\n",
       "</style>\n",
       "<table border=\"1\" class=\"dataframe\">\n",
       "  <thead>\n",
       "    <tr style=\"text-align: right;\">\n",
       "      <th></th>\n",
       "      <th>Document</th>\n",
       "      <th>Topic</th>\n",
       "      <th>Timestamp</th>\n",
       "      <th>Theme</th>\n",
       "    </tr>\n",
       "  </thead>\n",
       "  <tbody>\n",
       "    <tr>\n",
       "      <th>32</th>\n",
       "      <td>I salute you, i have tried soooooo many times ...</td>\n",
       "      <td>2</td>\n",
       "      <td>2024-04-01</td>\n",
       "      <td>Anti-Veganism / Pro-Carnivore Discussion</td>\n",
       "    </tr>\n",
       "    <tr>\n",
       "      <th>71</th>\n",
       "      <td>wow huge transformation bro. i need to get mor...</td>\n",
       "      <td>2</td>\n",
       "      <td>2024-04-01</td>\n",
       "      <td>Anti-Veganism / Pro-Carnivore Discussion</td>\n",
       "    </tr>\n",
       "    <tr>\n",
       "      <th>85</th>\n",
       "      <td>This guy should be a poster child for carnivor...</td>\n",
       "      <td>1</td>\n",
       "      <td>2024-04-01</td>\n",
       "      <td>Anti-Veganism / Pro-Carnivore Discussion</td>\n",
       "    </tr>\n",
       "    <tr>\n",
       "      <th>115</th>\n",
       "      <td>Thank you! 🙏 I know the struggle, this is the ...</td>\n",
       "      <td>2</td>\n",
       "      <td>2024-04-01</td>\n",
       "      <td>Anti-Veganism / Pro-Carnivore Discussion</td>\n",
       "    </tr>\n",
       "    <tr>\n",
       "      <th>147</th>\n",
       "      <td>Wow...unbelievable. On day 10 of carnivore here.</td>\n",
       "      <td>2</td>\n",
       "      <td>2024-04-01</td>\n",
       "      <td>Anti-Veganism / Pro-Carnivore Discussion</td>\n",
       "    </tr>\n",
       "    <tr>\n",
       "      <th>...</th>\n",
       "      <td>...</td>\n",
       "      <td>...</td>\n",
       "      <td>...</td>\n",
       "      <td>...</td>\n",
       "    </tr>\n",
       "    <tr>\n",
       "      <th>359770</th>\n",
       "      <td>Oh crap, kombucha. Ahahaha, wow thank you. I’m...</td>\n",
       "      <td>9</td>\n",
       "      <td>2014-07-01</td>\n",
       "      <td>Anti-Veganism / Pro-Carnivore Discussion</td>\n",
       "    </tr>\n",
       "    <tr>\n",
       "      <th>359776</th>\n",
       "      <td>You’re saying Tangerines are better than oranges?</td>\n",
       "      <td>9</td>\n",
       "      <td>2014-07-01</td>\n",
       "      <td>Anti-Veganism / Pro-Carnivore Discussion</td>\n",
       "    </tr>\n",
       "    <tr>\n",
       "      <th>359872</th>\n",
       "      <td>so, I carry a glass bottle with juice around, ...</td>\n",
       "      <td>9</td>\n",
       "      <td>2014-07-01</td>\n",
       "      <td>Anti-Veganism / Pro-Carnivore Discussion</td>\n",
       "    </tr>\n",
       "    <tr>\n",
       "      <th>360022</th>\n",
       "      <td>This is really dangerous advice, telling someo...</td>\n",
       "      <td>9</td>\n",
       "      <td>2023-01-01</td>\n",
       "      <td>Anti-Veganism / Pro-Carnivore Discussion</td>\n",
       "    </tr>\n",
       "    <tr>\n",
       "      <th>360153</th>\n",
       "      <td>You didn't mention alcohol, do you drink? Do a...</td>\n",
       "      <td>2</td>\n",
       "      <td>2024-07-01</td>\n",
       "      <td>Anti-Veganism / Pro-Carnivore Discussion</td>\n",
       "    </tr>\n",
       "  </tbody>\n",
       "</table>\n",
       "<p>38212 rows × 4 columns</p>\n",
       "</div>"
      ],
      "text/plain": [
       "                                                 Document  Topic   Timestamp  \\\n",
       "32      I salute you, i have tried soooooo many times ...      2  2024-04-01   \n",
       "71      wow huge transformation bro. i need to get mor...      2  2024-04-01   \n",
       "85      This guy should be a poster child for carnivor...      1  2024-04-01   \n",
       "115     Thank you! 🙏 I know the struggle, this is the ...      2  2024-04-01   \n",
       "147      Wow...unbelievable. On day 10 of carnivore here.      2  2024-04-01   \n",
       "...                                                   ...    ...         ...   \n",
       "359770  Oh crap, kombucha. Ahahaha, wow thank you. I’m...      9  2014-07-01   \n",
       "359776  You’re saying Tangerines are better than oranges?      9  2014-07-01   \n",
       "359872  so, I carry a glass bottle with juice around, ...      9  2014-07-01   \n",
       "360022  This is really dangerous advice, telling someo...      9  2023-01-01   \n",
       "360153  You didn't mention alcohol, do you drink? Do a...      2  2024-07-01   \n",
       "\n",
       "                                           Theme  \n",
       "32      Anti-Veganism / Pro-Carnivore Discussion  \n",
       "71      Anti-Veganism / Pro-Carnivore Discussion  \n",
       "85      Anti-Veganism / Pro-Carnivore Discussion  \n",
       "115     Anti-Veganism / Pro-Carnivore Discussion  \n",
       "147     Anti-Veganism / Pro-Carnivore Discussion  \n",
       "...                                          ...  \n",
       "359770  Anti-Veganism / Pro-Carnivore Discussion  \n",
       "359776  Anti-Veganism / Pro-Carnivore Discussion  \n",
       "359872  Anti-Veganism / Pro-Carnivore Discussion  \n",
       "360022  Anti-Veganism / Pro-Carnivore Discussion  \n",
       "360153  Anti-Veganism / Pro-Carnivore Discussion  \n",
       "\n",
       "[38212 rows x 4 columns]"
      ]
     },
     "execution_count": 13,
     "metadata": {},
     "output_type": "execute_result"
    }
   ],
   "source": [
    "anti_vegan_df"
   ]
  },
  {
   "cell_type": "code",
   "execution_count": null,
   "id": "7705dbef",
   "metadata": {},
   "outputs": [],
   "source": [
    "anti_vegan_samp3 = anti_vegan_df[anti_vegan_df['Topic'] == 2].sample(n=200, random_state=42)\n",
    "anti_vegan_samp3.to_csv('anti_vegan_samp3.csv')"
   ]
  },
  {
   "cell_type": "code",
   "execution_count": 3,
   "id": "fc9429d5",
   "metadata": {},
   "outputs": [],
   "source": [
    "health_theme_df = df[df['Theme'] == 'Health and Wellness Concerns']"
   ]
  },
  {
   "cell_type": "code",
   "execution_count": 13,
   "id": "3af8f2d2",
   "metadata": {},
   "outputs": [
    {
     "data": {
      "text/plain": [
       "{7: 3961,\n",
       " 11: 3373,\n",
       " 32: 1477,\n",
       " 39: 1196,\n",
       " 43: 1076,\n",
       " 54: 845,\n",
       " 58: 819,\n",
       " 59: 818,\n",
       " 67: 754,\n",
       " 80: 576,\n",
       " 87: 474,\n",
       " 88: 463,\n",
       " 100: 359,\n",
       " 106: 309,\n",
       " 108: 294,\n",
       " 123: 179,\n",
       " 125: 161}"
      ]
     },
     "execution_count": 13,
     "metadata": {},
     "output_type": "execute_result"
    }
   ],
   "source": [
    "health_theme_df['Topic'].value_counts().to_dict()"
   ]
  },
  {
   "cell_type": "code",
   "execution_count": 14,
   "id": "00569bdb",
   "metadata": {},
   "outputs": [
    {
     "data": {
      "text/plain": [
       "17134"
      ]
     },
     "execution_count": 14,
     "metadata": {},
     "output_type": "execute_result"
    }
   ],
   "source": [
    "sum(list(health_theme_df['Topic'].value_counts().to_dict().values()))"
   ]
  },
  {
   "cell_type": "code",
   "execution_count": 23,
   "id": "a3fc5437",
   "metadata": {},
   "outputs": [
    {
     "data": {
      "text/plain": [
       "17134"
      ]
     },
     "execution_count": 23,
     "metadata": {},
     "output_type": "execute_result"
    }
   ],
   "source": [
    "len(health_theme_df)"
   ]
  },
  {
   "cell_type": "code",
   "execution_count": 24,
   "id": "189e7ce3",
   "metadata": {},
   "outputs": [
    {
     "data": {
      "text/html": [
       "<div>\n",
       "<style scoped>\n",
       "    .dataframe tbody tr th:only-of-type {\n",
       "        vertical-align: middle;\n",
       "    }\n",
       "\n",
       "    .dataframe tbody tr th {\n",
       "        vertical-align: top;\n",
       "    }\n",
       "\n",
       "    .dataframe thead th {\n",
       "        text-align: right;\n",
       "    }\n",
       "</style>\n",
       "<table border=\"1\" class=\"dataframe\">\n",
       "  <thead>\n",
       "    <tr style=\"text-align: right;\">\n",
       "      <th></th>\n",
       "      <th>Document</th>\n",
       "      <th>Topic</th>\n",
       "      <th>Timestamp</th>\n",
       "      <th>Theme</th>\n",
       "    </tr>\n",
       "  </thead>\n",
       "  <tbody>\n",
       "    <tr>\n",
       "      <th>5</th>\n",
       "      <td>It even looks like your hair grew in thicker a...</td>\n",
       "      <td>32</td>\n",
       "      <td>2024-04-01</td>\n",
       "      <td>Health and Wellness Concerns</td>\n",
       "    </tr>\n",
       "    <tr>\n",
       "      <th>46</th>\n",
       "      <td>Your hair looks thicker!</td>\n",
       "      <td>32</td>\n",
       "      <td>2024-04-01</td>\n",
       "      <td>Health and Wellness Concerns</td>\n",
       "    </tr>\n",
       "    <tr>\n",
       "      <th>195</th>\n",
       "      <td>That’s amazing. Depending on whether you care,...</td>\n",
       "      <td>80</td>\n",
       "      <td>2024-04-01</td>\n",
       "      <td>Health and Wellness Concerns</td>\n",
       "    </tr>\n",
       "    <tr>\n",
       "      <th>198</th>\n",
       "      <td>How do you figure out histamines?? Like how do...</td>\n",
       "      <td>80</td>\n",
       "      <td>2024-04-01</td>\n",
       "      <td>Health and Wellness Concerns</td>\n",
       "    </tr>\n",
       "    <tr>\n",
       "      <th>202</th>\n",
       "      <td>Such an amazing testimony, congratulations! Ca...</td>\n",
       "      <td>80</td>\n",
       "      <td>2024-04-01</td>\n",
       "      <td>Health and Wellness Concerns</td>\n",
       "    </tr>\n",
       "    <tr>\n",
       "      <th>...</th>\n",
       "      <td>...</td>\n",
       "      <td>...</td>\n",
       "      <td>...</td>\n",
       "      <td>...</td>\n",
       "    </tr>\n",
       "    <tr>\n",
       "      <th>360135</th>\n",
       "      <td>I read Danny Roddy mention he couldn't get his...</td>\n",
       "      <td>7</td>\n",
       "      <td>2024-07-01</td>\n",
       "      <td>Health and Wellness Concerns</td>\n",
       "    </tr>\n",
       "    <tr>\n",
       "      <th>360141</th>\n",
       "      <td>I recently read about this on Bioenergetics.li...</td>\n",
       "      <td>7</td>\n",
       "      <td>2024-07-01</td>\n",
       "      <td>Health and Wellness Concerns</td>\n",
       "    </tr>\n",
       "    <tr>\n",
       "      <th>360142</th>\n",
       "      <td>&gt;So if glucagon stimulates release of liver gl...</td>\n",
       "      <td>7</td>\n",
       "      <td>2024-07-01</td>\n",
       "      <td>Health and Wellness Concerns</td>\n",
       "    </tr>\n",
       "    <tr>\n",
       "      <th>360151</th>\n",
       "      <td>Histamine. I’ll make a strict elimination diet...</td>\n",
       "      <td>80</td>\n",
       "      <td>2024-07-01</td>\n",
       "      <td>Health and Wellness Concerns</td>\n",
       "    </tr>\n",
       "    <tr>\n",
       "      <th>360159</th>\n",
       "      <td>Yea. Itchy scalp from orange juice sounds like...</td>\n",
       "      <td>80</td>\n",
       "      <td>2024-07-01</td>\n",
       "      <td>Health and Wellness Concerns</td>\n",
       "    </tr>\n",
       "  </tbody>\n",
       "</table>\n",
       "<p>17134 rows × 4 columns</p>\n",
       "</div>"
      ],
      "text/plain": [
       "                                                 Document  Topic   Timestamp  \\\n",
       "5       It even looks like your hair grew in thicker a...     32  2024-04-01   \n",
       "46                               Your hair looks thicker!     32  2024-04-01   \n",
       "195     That’s amazing. Depending on whether you care,...     80  2024-04-01   \n",
       "198     How do you figure out histamines?? Like how do...     80  2024-04-01   \n",
       "202     Such an amazing testimony, congratulations! Ca...     80  2024-04-01   \n",
       "...                                                   ...    ...         ...   \n",
       "360135  I read Danny Roddy mention he couldn't get his...      7  2024-07-01   \n",
       "360141  I recently read about this on Bioenergetics.li...      7  2024-07-01   \n",
       "360142  >So if glucagon stimulates release of liver gl...      7  2024-07-01   \n",
       "360151  Histamine. I’ll make a strict elimination diet...     80  2024-07-01   \n",
       "360159  Yea. Itchy scalp from orange juice sounds like...     80  2024-07-01   \n",
       "\n",
       "                               Theme  \n",
       "5       Health and Wellness Concerns  \n",
       "46      Health and Wellness Concerns  \n",
       "195     Health and Wellness Concerns  \n",
       "198     Health and Wellness Concerns  \n",
       "202     Health and Wellness Concerns  \n",
       "...                              ...  \n",
       "360135  Health and Wellness Concerns  \n",
       "360141  Health and Wellness Concerns  \n",
       "360142  Health and Wellness Concerns  \n",
       "360151  Health and Wellness Concerns  \n",
       "360159  Health and Wellness Concerns  \n",
       "\n",
       "[17134 rows x 4 columns]"
      ]
     },
     "execution_count": 24,
     "metadata": {},
     "output_type": "execute_result"
    }
   ],
   "source": [
    "health_theme_df"
   ]
  },
  {
   "cell_type": "code",
   "execution_count": 22,
   "id": "1e37badf",
   "metadata": {},
   "outputs": [],
   "source": [
    "health_samp = health_theme_df.sample(n=400, random_state=42)\n",
    "health_samp.to_csv('health_samp.csv')"
   ]
  },
  {
   "cell_type": "code",
   "execution_count": 16,
   "id": "0287519e",
   "metadata": {},
   "outputs": [],
   "source": [
    "general_df = df[df['Theme'] == 'General Diet and Nutrition Discussion']\n",
    "general_theme_samp = general_df.sample(n=400, random_state=42)\n",
    "general_theme_samp.to_csv('general_theme_samp.csv')"
   ]
  },
  {
   "cell_type": "code",
   "execution_count": 18,
   "id": "9d46940b",
   "metadata": {},
   "outputs": [
    {
     "data": {
      "text/plain": [
       "{3: 6015, 4: 5915, 6: 4128, 16: 2800, 28: 1590}"
      ]
     },
     "execution_count": 18,
     "metadata": {},
     "output_type": "execute_result"
    }
   ],
   "source": [
    "general_df['Topic'].value_counts().to_dict()"
   ]
  },
  {
   "cell_type": "code",
   "execution_count": null,
   "id": "51d60f31",
   "metadata": {},
   "outputs": [
    {
     "data": {
      "text/plain": [
       "907       Anti-Veganism / Pro-Carnivore Discussion\n",
       "1065      Anti-Veganism / Pro-Carnivore Discussion\n",
       "1176      Anti-Veganism / Pro-Carnivore Discussion\n",
       "1538      Anti-Veganism / Pro-Carnivore Discussion\n",
       "1928      Anti-Veganism / Pro-Carnivore Discussion\n",
       "                            ...                   \n",
       "359768    Anti-Veganism / Pro-Carnivore Discussion\n",
       "359770    Anti-Veganism / Pro-Carnivore Discussion\n",
       "359776    Anti-Veganism / Pro-Carnivore Discussion\n",
       "359872    Anti-Veganism / Pro-Carnivore Discussion\n",
       "360022    Anti-Veganism / Pro-Carnivore Discussion\n",
       "Name: Theme, Length: 3596, dtype: object"
      ]
     },
     "execution_count": 23,
     "metadata": {},
     "output_type": "execute_result"
    },
    {
     "ename": "",
     "evalue": "",
     "output_type": "error",
     "traceback": [
      "\u001b[1;31mThe Kernel crashed while executing code in the current cell or a previous cell. \n",
      "\u001b[1;31mPlease review the code in the cell(s) to identify a possible cause of the failure. \n",
      "\u001b[1;31mClick <a href='https://aka.ms/vscodeJupyterKernelCrash'>here</a> for more info. \n",
      "\u001b[1;31mView Jupyter <a href='command:jupyter.viewOutput'>log</a> for further details."
     ]
    }
   ],
   "source": [
    "df[df['Topic'] == 9]['Theme']"
   ]
  },
  {
   "cell_type": "code",
   "execution_count": 19,
   "id": "e1a256e4",
   "metadata": {},
   "outputs": [
    {
     "data": {
      "text/plain": [
       "20448"
      ]
     },
     "execution_count": 19,
     "metadata": {},
     "output_type": "execute_result"
    }
   ],
   "source": [
    "sum(list(general_df['Topic'].value_counts().to_dict().values()))"
   ]
  }
 ],
 "metadata": {
  "kernelspec": {
   "display_name": "base",
   "language": "python",
   "name": "python3"
  },
  "language_info": {
   "codemirror_mode": {
    "name": "ipython",
    "version": 3
   },
   "file_extension": ".py",
   "mimetype": "text/x-python",
   "name": "python",
   "nbconvert_exporter": "python",
   "pygments_lexer": "ipython3",
   "version": "3.11.9"
  }
 },
 "nbformat": 4,
 "nbformat_minor": 5
}
